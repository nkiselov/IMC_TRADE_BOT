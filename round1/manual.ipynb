{
 "cells": [
  {
   "cell_type": "code",
   "execution_count": 1,
   "metadata": {},
   "outputs": [
    {
     "name": "stdout",
     "output_type": "stream",
     "text": [
      "1.08868032\n",
      "[0, 2, 1, 0, 3]\n",
      "44340.15999999996\n"
     ]
    }
   ],
   "source": [
    "conv = [[1,1.45,0.52,0.72],[0.7,1,0.31,0.48],[1.95,3.1,1,1.49],[1.34,1.98,0.64,1]]\n",
    "\n",
    "maxRate = 0\n",
    "maxSt = []\n",
    "\n",
    "def dfs(lim,i,rate,st):\n",
    "    global maxRate, maxSt\n",
    "    if i==3:\n",
    "        if rate>maxRate:\n",
    "            maxRate = rate\n",
    "            maxSt = st\n",
    "    if lim==0:\n",
    "        return\n",
    "    for j in range(4):\n",
    "        dfs(lim-1,j,rate*conv[i][j],st+[j])\n",
    "\n",
    "dfs(5,3,1,[])\n",
    "print(maxRate)\n",
    "print(maxSt)\n",
    "print((maxRate-1)*500000)"
   ]
  }
 ],
 "metadata": {
  "kernelspec": {
   "display_name": "Python 3",
   "language": "python",
   "name": "python3"
  },
  "language_info": {
   "codemirror_mode": {
    "name": "ipython",
    "version": 3
   },
   "file_extension": ".py",
   "mimetype": "text/x-python",
   "name": "python",
   "nbconvert_exporter": "python",
   "pygments_lexer": "ipython3",
   "version": "3.8.2"
  }
 },
 "nbformat": 4,
 "nbformat_minor": 2
}
